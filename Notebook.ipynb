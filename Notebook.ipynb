{
 "cells": [
  {
   "cell_type": "code",
   "execution_count": null,
   "metadata": {},
   "outputs": [],
   "source": [
    "import pandas as pd\n",
    "import numpy as np\n",
    "import json\n",
    "import sqlalchemy\n",
    "from sqlalchemy.ext.automap import automap_base\n",
    "from sqlalchemy.orm import Session\n",
    "from sqlalchemy import create_engine, func\n",
    "\n",
    "from flask import Flask, jsonify, render_template\n"
   ]
  },
  {
   "cell_type": "code",
   "execution_count": null,
   "metadata": {},
   "outputs": [],
   "source": [
    "# Database setup\n",
    "engine = create_engine(\"sqlite:///world-alcohol-consumption.db\")\n",
    "\n",
    "# reflect an existing database into a new model\n",
    "Base = automap_base()\n",
    "\n",
    "# reflect the tables\n",
    "Base.prepare(engine, reflect=True)\n",
    "\n",
    "# Save reference to the table\n",
    "Countries = Base.classes.countries"
   ]
  },
  {
   "cell_type": "code",
   "execution_count": null,
   "metadata": {},
   "outputs": [],
   "source": [
    "session = Session(engine)\n",
    "results = session.query(Countries.country, Countries.beer_servings, Countries.spirit_servings, Countries.wine_servings, Countries.total_litres_of_pure_alcohol).all()\n",
    "session.close()\n",
    "\n",
    "country_data = []\n",
    "for country, beer_servings, spirit_servings, wine_servings, total_litres_of_pure_alcohol in results:\n",
    "    dict = {}\n",
    "    dict[\"country\"] = country\n",
    "    dict[\"beer_servings\"] = beer_servings\n",
    "    dict[\"spirit_servings\"] = spirit_servings\n",
    "    dict[\"wine_servings\"] = wine_servings\n",
    "    dict[\"total_litres_of_pure_alcohol\"] = total_litres_of_pure_alcohol\n",
    "    country_data.append(dict)"
   ]
  },
  {
   "cell_type": "code",
   "execution_count": null,
   "metadata": {},
   "outputs": [],
   "source": [
    "with open('countries.geo.json') as f:\n",
    "  geo_data = json.load(f)"
   ]
  },
  {
   "cell_type": "code",
   "execution_count": null,
   "metadata": {},
   "outputs": [],
   "source": [
    "list_of_countries = []\n",
    "for d in country_data:\n",
    "    name = d[\"country\"]\n",
    "    list_of_countries.append(name)"
   ]
  },
  {
   "cell_type": "code",
   "execution_count": null,
   "metadata": {},
   "outputs": [],
   "source": [
    "for feature in geo_data[\"features\"]:\n",
    "    country_name_geo = feature['properties']['name']\n",
    "    if country_name_geo in list_of_countries:\n",
    "        for country in country_data:\n",
    "            country_name_data = country[\"country\"]\n",
    "            if country_name_geo == country_name_data:\n",
    "                beer_servings = country[\"beer_servings\"]\n",
    "                wine_servings = country[\"wine_servings\"]\n",
    "                spirit_servings = country[\"spirit_servings\"]\n",
    "                total_litres_of_pure_alcohol = country[\"total_litres_of_pure_alcohol\"]\n",
    "            \n",
    "                feature[\"properties\"].update({\"beer_servings\" : beer_servings})\n",
    "                feature[\"properties\"].update({\"wine_servings\" : wine_servings})\n",
    "                feature[\"properties\"].update({\"spirit_servings\" : spirit_servings})\n",
    "                feature[\"properties\"].update({\"total_litres_of_pure_alcohol\" : total_litres_of_pure_alcohol})"
   ]
  },
  {
   "cell_type": "code",
   "execution_count": null,
   "metadata": {},
   "outputs": [],
   "source": []
  }
 ],
 "metadata": {
  "kernelspec": {
   "display_name": "Python 3.6.9 64-bit ('PythonData': conda)",
   "language": "python",
   "name": "python36964bitpythondataconda260f222baf83478c97caffe2cf34fc46"
  },
  "language_info": {
   "codemirror_mode": {
    "name": "ipython",
    "version": 3
   },
   "file_extension": ".py",
   "mimetype": "text/x-python",
   "name": "python",
   "nbconvert_exporter": "python",
   "pygments_lexer": "ipython3",
   "version": "3.6.9"
  }
 },
 "nbformat": 4,
 "nbformat_minor": 2
}
